{
 "cells": [
  {
   "cell_type": "markdown",
   "metadata": {},
   "source": [
    "# 数据优化处理\n",
    "\n",
    "## 使用**str.strip([chars])** 来删除字符串前后的无用字符，如0、空格等"
   ]
  },
  {
   "cell_type": "code",
   "execution_count": 4,
   "metadata": {},
   "outputs": [
    {
     "name": "stdout",
     "output_type": "stream",
     "text": [
      "25901358\n",
      "1597532468\n"
     ]
    }
   ],
   "source": [
    "data3 = '00002590135800'\n",
    "data3_new = data3.strip('0')\n",
    "print(data3_new)\n",
    "data3 = '  1597532468 '\n",
    "data3_new = data3.strip(' ')\n",
    "print(data3_new)"
   ]
  },
  {
   "cell_type": "markdown",
   "metadata": {},
   "source": [
    "**需要注意从后向前时系统判别顺序**\n",
    "\n",
    "**其实并没有按顺序，只是（）内的字符全都会被删除！**"
   ]
  },
  {
   "cell_type": "code",
   "execution_count": 3,
   "metadata": {},
   "outputs": [
    {
     "name": "stdout",
     "output_type": "stream",
     "text": [
      "3abcrunoob3\n"
     ]
    }
   ],
   "source": [
    "data3 = \"123abcrunoob321\"\n",
    "data3_new = data3.strip('12')\n",
    "print(data3_new)"
   ]
  },
  {
   "cell_type": "markdown",
   "metadata": {},
   "source": [
    "## 使用**str.split('char',time)** 对字符串进行分割\n",
    "\n",
    "其中char为标记分割符号，time为分割次数（从前向后一次分割，达到次数则不论是否存在标识符都不再分割），不输入time则将全部标识符进行分割"
   ]
  },
  {
   "cell_type": "code",
   "execution_count": 2,
   "metadata": {},
   "outputs": [
    {
     "name": "stdout",
     "output_type": "stream",
     "text": [
      "['Google', 'Runoob', 'Taobao#Facebook']\n"
     ]
    }
   ],
   "source": [
    "data4 = \"Google#Runoob#Taobao#Facebook\"\n",
    "data4_new = data4.split('#',2)\n",
    "print(data4_new)"
   ]
  },
  {
   "cell_type": "code",
   "execution_count": null,
   "metadata": {},
   "outputs": [],
   "source": []
  }
 ],
 "metadata": {
  "kernelspec": {
   "display_name": "Python 3",
   "language": "python",
   "name": "python3"
  },
  "language_info": {
   "codemirror_mode": {
    "name": "ipython",
    "version": 3
   },
   "file_extension": ".py",
   "mimetype": "text/x-python",
   "name": "python",
   "nbconvert_exporter": "python",
   "pygments_lexer": "ipython3",
   "version": "3.7.3"
  }
 },
 "nbformat": 4,
 "nbformat_minor": 4
}
