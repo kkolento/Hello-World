{
 "cells": [
  {
   "cell_type": "markdown",
   "metadata": {},
   "source": [
    "# python循环\n",
    "\n",
    "## for循环\n",
    "\n",
    "**for后直接加计数次数，从0开始计数!**"
   ]
  },
  {
   "cell_type": "code",
   "execution_count": 1,
   "metadata": {},
   "outputs": [
    {
     "name": "stdout",
     "output_type": "stream",
     "text": [
      "01234"
     ]
    }
   ],
   "source": [
    "for i in range(5):\n",
    "    print(i,end='')"
   ]
  },
  {
   "cell_type": "markdown",
   "metadata": {},
   "source": [
    "***左闭右开！***用起止作为循环计数时，区间为***左闭右开！！！***"
   ]
  },
  {
   "cell_type": "code",
   "execution_count": 2,
   "metadata": {},
   "outputs": [
    {
     "name": "stdout",
     "output_type": "stream",
     "text": [
      "123"
     ]
    }
   ],
   "source": [
    "for i in range(1,4):\n",
    "    print(i,end='')"
   ]
  },
  {
   "cell_type": "markdown",
   "metadata": {},
   "source": [
    "间隔计数"
   ]
  },
  {
   "cell_type": "code",
   "execution_count": 3,
   "metadata": {},
   "outputs": [
    {
     "name": "stdout",
     "output_type": "stream",
     "text": [
      "0369"
     ]
    }
   ],
   "source": [
    "for i in range(0,12,3):#第三个参数代表间隔\n",
    "    print(i,end='')"
   ]
  },
  {
   "cell_type": "markdown",
   "metadata": {},
   "source": [
    "### Python特有，特殊结构内循环"
   ]
  },
  {
   "cell_type": "code",
   "execution_count": 4,
   "metadata": {},
   "outputs": [
    {
     "name": "stdout",
     "output_type": "stream",
     "text": [
      "对于字符串,b\te\ti\tj\ti\tn\tg\t\n",
      "对于一个数组,\ta1\t122\tcxk\t/n\n",
      "0 a1\n",
      "1 122\n",
      "2 cxk\n"
     ]
    }
   ],
   "source": [
    "src1='beijing'\n",
    "print(\"对于字符串,\",end='')\n",
    "for i in src1:\n",
    "    print(i,end='\\t')\n",
    "src2=[\"a1\",\"122\",\"cxk\"]\n",
    "print(\"\\n对于一个数组,\",end='\\t')\n",
    "for i in src2:\n",
    "    print(i,end='\\t')\n",
    "#另一种写法\n",
    "print(\"/n\")\n",
    "for j in range(len(src2)):\n",
    "    print(j,src2[j])"
   ]
  },
  {
   "cell_type": "markdown",
   "metadata": {},
   "source": [
    "## while 循环\n",
    "\n",
    "while else用法类似于if"
   ]
  },
  {
   "cell_type": "code",
   "execution_count": 5,
   "metadata": {},
   "outputs": [
    {
     "name": "stdout",
     "output_type": "stream",
     "text": [
      "****\n"
     ]
    }
   ],
   "source": [
    "init=89\n",
    "while init>90:\n",
    "    print('nice')\n",
    "else:\n",
    "    print('*'*4)"
   ]
  },
  {
   "cell_type": "markdown",
   "metadata": {},
   "source": [
    "## break continue\n",
    "\n",
    "break跳出这层循环\n",
    "\n",
    "continue跳出这次循环，跳出这层循环之后的语句，进入下一轮"
   ]
  },
  {
   "cell_type": "markdown",
   "metadata": {},
   "source": [
    "---\n",
    "打印99乘法表"
   ]
  },
  {
   "cell_type": "code",
   "execution_count": 6,
   "metadata": {},
   "outputs": [
    {
     "name": "stdout",
     "output_type": "stream",
     "text": [
      "1*1=1\t\n",
      "\n",
      "2*1=2\t2*2=4\t\n",
      "\n",
      "3*1=3\t3*2=6\t3*3=9\t\n",
      "\n",
      "4*1=4\t4*2=8\t4*3=12\t4*4=16\t\n",
      "\n",
      "5*1=5\t5*2=10\t5*3=15\t5*4=20\t5*5=25\t\n",
      "\n",
      "6*1=6\t6*2=12\t6*3=18\t6*4=24\t6*5=30\t6*6=36\t\n",
      "\n",
      "7*1=7\t7*2=14\t7*3=21\t7*4=28\t7*5=35\t7*6=42\t7*7=49\t\n",
      "\n",
      "8*1=8\t8*2=16\t8*3=24\t8*4=32\t8*5=40\t8*6=48\t8*7=56\t8*8=64\t\n",
      "\n",
      "9*1=9\t9*2=18\t9*3=27\t9*4=36\t9*5=45\t9*6=54\t9*7=63\t9*8=72\t9*9=81\t\n",
      "\n"
     ]
    }
   ],
   "source": [
    "for i in range(1,10):\n",
    "    for j in range(1,i+1):\n",
    "        mul=i*j\n",
    "        print(\"%d*%d=%d\"%(i,j,mul),end='\\t')\n",
    "    print(\"\\n\")"
   ]
  },
  {
   "cell_type": "code",
   "execution_count": null,
   "metadata": {},
   "outputs": [],
   "source": []
  }
 ],
 "metadata": {
  "kernelspec": {
   "display_name": "Python 3",
   "language": "python",
   "name": "python3"
  },
  "language_info": {
   "codemirror_mode": {
    "name": "ipython",
    "version": 3
   },
   "file_extension": ".py",
   "mimetype": "text/x-python",
   "name": "python",
   "nbconvert_exporter": "python",
   "pygments_lexer": "ipython3",
   "version": "3.7.3"
  }
 },
 "nbformat": 4,
 "nbformat_minor": 4
}
