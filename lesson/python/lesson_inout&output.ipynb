{
 "cells": [
  {
   "cell_type": "markdown",
   "metadata": {},
   "source": [
    "# python格式化输出\n",
    "\n",
    "**单引号和双引号好像都可以**"
   ]
  },
  {
   "cell_type": "markdown",
   "metadata": {},
   "source": [
    "逗号默认为将前后两数据用空格分开，可以用sep更改间隔符号"
   ]
  },
  {
   "cell_type": "code",
   "execution_count": 1,
   "metadata": {},
   "outputs": [
    {
     "name": "stdout",
     "output_type": "stream",
     "text": [
      "www.baidu.com\n"
     ]
    }
   ],
   "source": [
    "print('www',\"baidu\",\"com\",sep='.')"
   ]
  },
  {
   "cell_type": "markdown",
   "metadata": {},
   "source": [
    "---\n",
    "希望输出句末不换行"
   ]
  },
  {
   "cell_type": "code",
   "execution_count": 2,
   "metadata": {},
   "outputs": [
    {
     "name": "stdout",
     "output_type": "stream",
     "text": [
      "press esc to skip\tyes\n"
     ]
    }
   ],
   "source": [
    "print(\"press esc to skip\",end='\\t')#/t代表和下一输出空格，什么都不填代表不空格\n",
    "print('yes')"
   ]
  },
  {
   "cell_type": "markdown",
   "metadata": {},
   "source": [
    "---\n",
    "相同类型数据占位，可以在后面用一个括号覆盖"
   ]
  },
  {
   "cell_type": "code",
   "execution_count": 3,
   "metadata": {},
   "outputs": [
    {
     "name": "stdout",
     "output_type": "stream",
     "text": [
      "姓名:ddj学号:74751\n"
     ]
    }
   ],
   "source": [
    "name='ddj'\n",
    "id='74751'\n",
    "print(\"姓名:%s学号:%s\"%(name,id))"
   ]
  },
  {
   "cell_type": "markdown",
   "metadata": {},
   "source": [
    "---"
   ]
  },
  {
   "cell_type": "markdown",
   "metadata": {},
   "source": [
    "**键盘输入使用input()**"
   ]
  },
  {
   "cell_type": "code",
   "execution_count": 4,
   "metadata": {},
   "outputs": [
    {
     "name": "stdout",
     "output_type": "stream",
     "text": [
      "请输入密码123456\n",
      "登录成功\n"
     ]
    }
   ],
   "source": [
    "password=input(\"请输入密码\")\n",
    "if password=='123456':\n",
    "    print(\"登录成功\")\n",
    "else:\n",
    "    print(\"密码错误\")"
   ]
  },
  {
   "cell_type": "code",
   "execution_count": 5,
   "metadata": {},
   "outputs": [
    {
     "data": {
      "text/plain": [
       "str"
      ]
     },
     "execution_count": 5,
     "metadata": {},
     "output_type": "execute_result"
    }
   ],
   "source": [
    "type(password)"
   ]
  },
  {
   "cell_type": "markdown",
   "metadata": {},
   "source": [
    "强制类型转换"
   ]
  },
  {
   "cell_type": "code",
   "execution_count": 6,
   "metadata": {},
   "outputs": [
    {
     "name": "stdout",
     "output_type": "stream",
     "text": [
      "123556\n"
     ]
    }
   ],
   "source": [
    "b=int(password) + 100\n",
    "print(b)"
   ]
  },
  {
   "cell_type": "markdown",
   "metadata": {},
   "source": [
    "# 随机数"
   ]
  },
  {
   "cell_type": "code",
   "execution_count": 7,
   "metadata": {},
   "outputs": [],
   "source": [
    "import random"
   ]
  },
  {
   "cell_type": "markdown",
   "metadata": {},
   "source": [
    "生成随机整数"
   ]
  },
  {
   "cell_type": "code",
   "execution_count": 8,
   "metadata": {},
   "outputs": [
    {
     "name": "stdout",
     "output_type": "stream",
     "text": [
      "43\n"
     ]
    }
   ],
   "source": [
    "a=random.randint(0,60)\n",
    "print(a)"
   ]
  },
  {
   "cell_type": "markdown",
   "metadata": {},
   "source": [
    "---\n",
    "利用上述知识，写一个剪刀石头布小游戏"
   ]
  },
  {
   "cell_type": "code",
   "execution_count": 9,
   "metadata": {},
   "outputs": [
    {
     "name": "stdout",
     "output_type": "stream",
     "text": [
      "石头剪刀布！012！你要出：2\n",
      "电脑出1,你输了!\n"
     ]
    }
   ],
   "source": [
    "your=int(input(\"石头剪刀布！012！你要出：\"))\n",
    "if(your!=0and your!=1 and your!=2):\n",
    "    print(\"爬\")\n",
    "else:\n",
    "    cp=random.randint(0,2)\n",
    "    print(\"电脑出%d,\"%cp,end='')\n",
    "    if(your-cp)==1 or (your-cp)==-2:\n",
    "        print(\"你输了!\")\n",
    "    elif(your-cp)==0:\n",
    "        print(\"平局！\")\n",
    "    else:\n",
    "        print(\"你赢了！\")"
   ]
  },
  {
   "cell_type": "code",
   "execution_count": null,
   "metadata": {},
   "outputs": [],
   "source": []
  }
 ],
 "metadata": {
  "kernelspec": {
   "display_name": "Python 3",
   "language": "python",
   "name": "python3"
  },
  "language_info": {
   "codemirror_mode": {
    "name": "ipython",
    "version": 3
   },
   "file_extension": ".py",
   "mimetype": "text/x-python",
   "name": "python",
   "nbconvert_exporter": "python",
   "pygments_lexer": "ipython3",
   "version": "3.7.3"
  }
 },
 "nbformat": 4,
 "nbformat_minor": 4
}
