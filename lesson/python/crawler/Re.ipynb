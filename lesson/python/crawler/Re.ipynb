{
 "cells": [
  {
   "cell_type": "markdown",
   "metadata": {},
   "source": [
    "# Re正则表达式\n",
    "\n",
    "判断字符串是否符合给定标准\n",
    "\n",
    "操作符|说明|实例\n",
    "--|:--|:--|\n",
    ".|换行以外的任何单个字符|\n",
    "[  ]|字符集|[a,b,c][a-z]\n",
    "[^ ]|非字符集|[^a]\n",
    "\\*|只对前**一个字符** 限定出现0-无限次|[abc*]表示ab,abc,abccc\n",
    "+|对前**一个字符** 限定出现1-无限次|[abc+]表示abc,abccc\n",
    "?|对前**一个字符** 限定出现0-1次|[abc?]表示ab,abc\n",
    "\\||只能为二者其一|ab\\|abc"
   ]
  },
  {
   "cell_type": "markdown",
   "metadata": {},
   "source": [
    "操作符|说明|实例\n",
    "--|:--|:--|\n",
    "{m,n}|前一个字符出现m-n次|ab{1,3}c表示abc,abbc,abbbc\n",
    "^|之后的字符串必须出现在开头|^abc表示abc...\n",
    "$|之前的字符串必须出现在末尾|abc&表示...abc\n",
    "()|分组标记，内部最多只能用\\||(abc|bcd)\n",
    "\\\\d|数字0-9|\n",
    "\\\\w|字符a-z A-Z 0-9以及下划线_|"
   ]
  },
  {
   "cell_type": "markdown",
   "metadata": {},
   "source": [
    "修饰符|解释\n",
    "--|:--|\n",
    "re.l|使匹配对大小写不敏感\n",
    "re.S|.可以表示包括换行在内的所有字符"
   ]
  },
  {
   "cell_type": "code",
   "execution_count": 1,
   "metadata": {},
   "outputs": [],
   "source": [
    "import re"
   ]
  },
  {
   "cell_type": "markdown",
   "metadata": {},
   "source": [
    "## search查找"
   ]
  },
  {
   "cell_type": "code",
   "execution_count": 2,
   "metadata": {},
   "outputs": [
    {
     "name": "stdout",
     "output_type": "stream",
     "text": [
      "<re.Match object; span=(0, 2), match='aa'>\n",
      "<re.Match object; span=(1, 3), match='aa'>\n"
     ]
    }
   ],
   "source": [
    "pat = re.compile(\"aa\")#设定正则模板\n",
    "m = pat.search(\"aabbaac\")#校验是否符合该模板\n",
    "print(m)\n",
    "\n",
    "#也可以写到同一句中\n",
    "n = re.search(\"aa\",\"baac\")#第一个参数为模板，第二个参数为检测对象\n",
    "print(n)"
   ]
  },
  {
   "cell_type": "markdown",
   "metadata": {},
   "source": [
    "表示在下标0-1位置（**左闭右开**）匹配成功，仅匹配第一次"
   ]
  },
  {
   "cell_type": "markdown",
   "metadata": {},
   "source": [
    "## findall查找"
   ]
  },
  {
   "cell_type": "code",
   "execution_count": 3,
   "metadata": {},
   "outputs": [
    {
     "name": "stdout",
     "output_type": "stream",
     "text": [
      "['s', 'sb']\n"
     ]
    }
   ],
   "source": [
    "m = re.findall(\"[a-z]+\",\"QsJsbOKU\")\n",
    "print(m)"
   ]
  },
  {
   "cell_type": "markdown",
   "metadata": {},
   "source": [
    "# sub替换"
   ]
  },
  {
   "cell_type": "code",
   "execution_count": 4,
   "metadata": {},
   "outputs": [
    {
     "name": "stdout",
     "output_type": "stream",
     "text": [
      "An Apple\n"
     ]
    }
   ],
   "source": [
    "m = re.sub(\"a\",\"A\",\"an apple\")#找到a,用A替换\n",
    "print(m)"
   ]
  },
  {
   "cell_type": "markdown",
   "metadata": {},
   "source": [
    "**建议在匹配字符串前加上r，不用担心转义字符**"
   ]
  },
  {
   "cell_type": "code",
   "execution_count": 5,
   "metadata": {},
   "outputs": [
    {
     "name": "stdout",
     "output_type": "stream",
     "text": [
      "sa/'qw/'\n"
     ]
    }
   ],
   "source": [
    "str = r\"sa/'qw/'\"\n",
    "print(str)"
   ]
  },
  {
   "cell_type": "code",
   "execution_count": null,
   "metadata": {},
   "outputs": [],
   "source": []
  }
 ],
 "metadata": {
  "kernelspec": {
   "display_name": "Python 3",
   "language": "python",
   "name": "python3"
  },
  "language_info": {
   "codemirror_mode": {
    "name": "ipython",
    "version": 3
   },
   "file_extension": ".py",
   "mimetype": "text/x-python",
   "name": "python",
   "nbconvert_exporter": "python",
   "pygments_lexer": "ipython3",
   "version": "3.7.3"
  }
 },
 "nbformat": 4,
 "nbformat_minor": 4
}
