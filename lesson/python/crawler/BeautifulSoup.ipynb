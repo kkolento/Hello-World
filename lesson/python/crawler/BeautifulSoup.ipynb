{
 "cells": [
  {
   "cell_type": "markdown",
   "metadata": {},
   "source": [
    "# BeautifulSoup\n",
    "\n",
    "将复杂的html文档转换为树形结构，每个节点都是python对象，有以下四种类型：\n",
    "\n",
    "1. Tag\n",
    "\n",
    "2. NavigableString\n",
    "\n",
    "3. BeautifulSoup\n",
    "\n",
    "4. Comment"
   ]
  },
  {
   "cell_type": "code",
   "execution_count": 1,
   "metadata": {},
   "outputs": [],
   "source": [
    "from bs4 import BeautifulSoup"
   ]
  },
  {
   "cell_type": "markdown",
   "metadata": {},
   "source": [
    "## 1.Tag\n",
    "\n",
    "拿到他找到的第一组内容"
   ]
  },
  {
   "cell_type": "code",
   "execution_count": 2,
   "metadata": {},
   "outputs": [
    {
     "name": "stdout",
     "output_type": "stream",
     "text": [
      "<title>百度一下·你就知道</title>\n",
      "<a class=\"mnav\" href=\"https://news.baidu.com\" name=\"tj_trnews\"><!--新闻--></a>\n",
      "<head>\n",
      "<meta content=\"text/html; charset=UTF-8\"/><meta http-equiv=\"content-type\">\n",
      "<meta content=\"IE=edge,http-equiv=\" x-ua-compatible\"=\"\"/>\n",
      "<meta content=\"always\" name=\"referrer\"/>\n",
      "<link href=\"https://ss1.dbstatic.com/5eN1bjq8AAUYm2zgoY3K/r/www/cache/bdorz/baidu.min.css\" rel=\"stylesheet\" type=\"text/css\"/>\n",
      "<title>百度一下·你就知道</title>\n",
      "</meta></head>\n",
      "<class 'bs4.element.Tag'>\n"
     ]
    }
   ],
   "source": [
    "file=open('./baidu.html',\"rb\")\n",
    "html=file.read()\n",
    "bs=BeautifulSoup(html,\"html.parser\")#还可以读取json等\n",
    "print(bs.title)\n",
    "print(bs.a)\n",
    "print(bs.head)\n",
    "print(type(bs.head))"
   ]
  },
  {
   "cell_type": "markdown",
   "metadata": {},
   "source": [
    "## 2.NavigableString\n",
    "\n",
    "标签里的内容（字符串）"
   ]
  },
  {
   "cell_type": "code",
   "execution_count": 3,
   "metadata": {},
   "outputs": [
    {
     "name": "stdout",
     "output_type": "stream",
     "text": [
      "百度一下·你就知道\n",
      "<class 'bs4.element.NavigableString'>\n"
     ]
    }
   ],
   "source": [
    "print(bs.title.string)\n",
    "print(type(bs.title.string))"
   ]
  },
  {
   "cell_type": "markdown",
   "metadata": {},
   "source": [
    "标签里的属性(字典、键值对)"
   ]
  },
  {
   "cell_type": "code",
   "execution_count": 4,
   "metadata": {},
   "outputs": [
    {
     "name": "stdout",
     "output_type": "stream",
     "text": [
      "{'class': ['mnav'], 'href': 'https://news.baidu.com', 'name': 'tj_trnews'}\n",
      "<class 'dict'>\n"
     ]
    }
   ],
   "source": [
    "print(bs.a.attrs)\n",
    "print(type(bs.a.attrs))"
   ]
  },
  {
   "cell_type": "markdown",
   "metadata": {},
   "source": [
    "## 3.BeautifulSoup\n",
    "\n",
    "表示整个文档"
   ]
  },
  {
   "cell_type": "code",
   "execution_count": 5,
   "metadata": {},
   "outputs": [
    {
     "name": "stdout",
     "output_type": "stream",
     "text": [
      "<class 'bs4.BeautifulSoup'>\n"
     ]
    }
   ],
   "source": [
    "print(type(bs))"
   ]
  },
  {
   "cell_type": "markdown",
   "metadata": {},
   "source": [
    "## 4.comment\n",
    "\n",
    "表示注释,是特殊的NavigableString,不含注释符号"
   ]
  },
  {
   "cell_type": "code",
   "execution_count": 6,
   "metadata": {},
   "outputs": [
    {
     "name": "stdout",
     "output_type": "stream",
     "text": [
      "新闻\n",
      "<class 'bs4.element.Comment'>\n"
     ]
    }
   ],
   "source": [
    "print(bs.a.string)\n",
    "print(type(bs.a.string))"
   ]
  },
  {
   "cell_type": "markdown",
   "metadata": {},
   "source": [
    "---\n",
    "## 文档的遍历\n",
    "\n",
    "利用树结构遍历父子节点不如直接搜索（）"
   ]
  },
  {
   "cell_type": "code",
   "execution_count": 7,
   "metadata": {},
   "outputs": [
    {
     "name": "stdout",
     "output_type": "stream",
     "text": [
      "['\\n', <meta content=\"text/html; charset=UTF-8\"/>, <meta http-equiv=\"content-type\">\n",
      "<meta content=\"IE=edge,http-equiv=\" x-ua-compatible\"=\"\"/>\n",
      "<meta content=\"always\" name=\"referrer\"/>\n",
      "<link href=\"https://ss1.dbstatic.com/5eN1bjq8AAUYm2zgoY3K/r/www/cache/bdorz/baidu.min.css\" rel=\"stylesheet\" type=\"text/css\"/>\n",
      "<title>百度一下·你就知道</title>\n",
      "</meta>]\n"
     ]
    }
   ],
   "source": [
    "print(bs.head.contents)#列表型数据"
   ]
  },
  {
   "cell_type": "markdown",
   "metadata": {},
   "source": [
    "## 文档的搜索\n",
    "\n",
    "# find_all\n",
    "\n",
    "## 1.标签完全匹配\n",
    "\n",
    "字符串过滤，查找与字符串完全匹配的内容"
   ]
  },
  {
   "cell_type": "code",
   "execution_count": 8,
   "metadata": {},
   "outputs": [
    {
     "name": "stdout",
     "output_type": "stream",
     "text": [
      "[<a class=\"mnav\" href=\"https://news.baidu.com\" name=\"tj_trnews\"><!--新闻--></a>, <a class=\"mnav\" href=\"https://news.baidu.com\" name=\"tj_trnews\">新闻</a>, <a class=\"mnav\" href=\"https://www.hao123.com\" name=\"tj_trhao123\">hao123</a>, <a class=\"mnav\" href=\"https://map.baidu.com\" name=\"tj_trmap\">地图</a>, <a class=\"mnav\" href=\"https://v.baidu.com\" name=\"tj_trvideo\">视频</a>, <a class=\"mnav\" href=\"https://tieba.baidu.com\" name=\"tj_trtieba\">贴吧</a>, <a class=\"bri\" href=\"https://www.baidu.com/more/\" name=\"tj_briicon\">style=\"...\"更多产品</a>]\n"
     ]
    }
   ],
   "source": [
    "t_list=bs.find_all(\"a\")#标签name为a的所有内容\n",
    "print(t_list)"
   ]
  },
  {
   "cell_type": "markdown",
   "metadata": {},
   "source": [
    "## 2.正则表达式搜索：使用search方法匹配内容"
   ]
  },
  {
   "cell_type": "code",
   "execution_count": 9,
   "metadata": {},
   "outputs": [
    {
     "name": "stdout",
     "output_type": "stream",
     "text": [
      "<head>\n",
      "<meta content=\"text/html; charset=UTF-8\"/><meta http-equiv=\"content-type\">\n",
      "<meta content=\"IE=edge,http-equiv=\" x-ua-compatible\"=\"\"/>\n",
      "<meta content=\"always\" name=\"referrer\"/>\n",
      "<link href=\"https://ss1.dbstatic.com/5eN1bjq8AAUYm2zgoY3K/r/www/cache/bdorz/baidu.min.css\" rel=\"stylesheet\" type=\"text/css\"/>\n",
      "<title>百度一下·你就知道</title>\n",
      "</meta></head>\n",
      "<meta content=\"text/html; charset=UTF-8\"/>\n",
      "<meta http-equiv=\"content-type\">\n",
      "<meta content=\"IE=edge,http-equiv=\" x-ua-compatible\"=\"\"/>\n",
      "<meta content=\"always\" name=\"referrer\"/>\n",
      "<link href=\"https://ss1.dbstatic.com/5eN1bjq8AAUYm2zgoY3K/r/www/cache/bdorz/baidu.min.css\" rel=\"stylesheet\" type=\"text/css\"/>\n",
      "<title>百度一下·你就知道</title>\n",
      "</meta>\n",
      "<meta content=\"IE=edge,http-equiv=\" x-ua-compatible\"=\"\"/>\n",
      "<meta content=\"always\" name=\"referrer\"/>\n",
      "<a class=\"mnav\" href=\"https://news.baidu.com\" name=\"tj_trnews\"><!--新闻--></a>\n",
      "<a class=\"mnav\" href=\"https://news.baidu.com\" name=\"tj_trnews\">新闻</a>\n",
      "<a class=\"mnav\" href=\"https://www.hao123.com\" name=\"tj_trhao123\">hao123</a>\n",
      "<a class=\"mnav\" href=\"https://map.baidu.com\" name=\"tj_trmap\">地图</a>\n",
      "<a class=\"mnav\" href=\"https://v.baidu.com\" name=\"tj_trvideo\">视频</a>\n",
      "<a class=\"mnav\" href=\"https://tieba.baidu.com\" name=\"tj_trtieba\">贴吧</a>\n",
      "<a class=\"bri\" href=\"https://www.baidu.com/more/\" name=\"tj_briicon\">style=\"...\"更多产品</a>\n"
     ]
    }
   ],
   "source": [
    "import re\n",
    "t_list=bs.find_all(re.compile(\"a\"))#标签中包含a的\n",
    "for i in t_list:#按列表打印\n",
    "    print(i)"
   ]
  },
  {
   "cell_type": "markdown",
   "metadata": {},
   "source": [
    "## 3.方法：传入一个函数，根据函数的要求来搜索，不常用\n",
    "---"
   ]
  },
  {
   "cell_type": "markdown",
   "metadata": {},
   "source": [
    "# kwargs参数"
   ]
  },
  {
   "cell_type": "code",
   "execution_count": 10,
   "metadata": {},
   "outputs": [
    {
     "name": "stdout",
     "output_type": "stream",
     "text": [
      "<div id=\"head\">\n",
      "<div class=\"head_wrapper\">\n",
      "<div id=\"u1\">\n",
      "<a class=\"mnav\" href=\"https://news.baidu.com\" name=\"tj_trnews\"><!--新闻--></a>\n",
      "<a class=\"mnav\" href=\"https://news.baidu.com\" name=\"tj_trnews\">新闻</a>\n",
      "<a class=\"mnav\" href=\"https://www.hao123.com\" name=\"tj_trhao123\">hao123</a>\n",
      "<a class=\"mnav\" href=\"https://map.baidu.com\" name=\"tj_trmap\">地图</a>\n",
      "<a class=\"mnav\" href=\"https://v.baidu.com\" name=\"tj_trvideo\">视频</a>\n",
      "<a class=\"mnav\" href=\"https://tieba.baidu.com\" name=\"tj_trtieba\">贴吧</a>\n",
      "<a class=\"bri\" href=\"https://www.baidu.com/more/\" name=\"tj_briicon\">style=\"...\"更多产品</a>\n",
      "</div>\n",
      "</div>\n",
      "</div>\n"
     ]
    }
   ],
   "source": [
    "t_list=bs.find_all(id=\"head\")#id参数\n",
    "for i in t_list:\n",
    "    print(i)"
   ]
  },
  {
   "cell_type": "code",
   "execution_count": 11,
   "metadata": {},
   "outputs": [
    {
     "name": "stdout",
     "output_type": "stream",
     "text": [
      "<div class=\"head_wrapper\">\n",
      "<div id=\"u1\">\n",
      "<a class=\"mnav\" href=\"https://news.baidu.com\" name=\"tj_trnews\"><!--新闻--></a>\n",
      "<a class=\"mnav\" href=\"https://news.baidu.com\" name=\"tj_trnews\">新闻</a>\n",
      "<a class=\"mnav\" href=\"https://www.hao123.com\" name=\"tj_trhao123\">hao123</a>\n",
      "<a class=\"mnav\" href=\"https://map.baidu.com\" name=\"tj_trmap\">地图</a>\n",
      "<a class=\"mnav\" href=\"https://v.baidu.com\" name=\"tj_trvideo\">视频</a>\n",
      "<a class=\"mnav\" href=\"https://tieba.baidu.com\" name=\"tj_trtieba\">贴吧</a>\n",
      "<a class=\"bri\" href=\"https://www.baidu.com/more/\" name=\"tj_briicon\">style=\"...\"更多产品</a>\n",
      "</div>\n",
      "</div>\n",
      "<a class=\"mnav\" href=\"https://news.baidu.com\" name=\"tj_trnews\"><!--新闻--></a>\n",
      "<a class=\"mnav\" href=\"https://news.baidu.com\" name=\"tj_trnews\">新闻</a>\n",
      "<a class=\"mnav\" href=\"https://www.hao123.com\" name=\"tj_trhao123\">hao123</a>\n",
      "<a class=\"mnav\" href=\"https://map.baidu.com\" name=\"tj_trmap\">地图</a>\n",
      "<a class=\"mnav\" href=\"https://v.baidu.com\" name=\"tj_trvideo\">视频</a>\n",
      "<a class=\"mnav\" href=\"https://tieba.baidu.com\" name=\"tj_trtieba\">贴吧</a>\n",
      "<a class=\"bri\" href=\"https://www.baidu.com/more/\" name=\"tj_briicon\">style=\"...\"更多产品</a>\n"
     ]
    }
   ],
   "source": [
    "t_list=bs.find_all(class_=True)#class参数\n",
    "for i in t_list:\n",
    "    print(i)"
   ]
  },
  {
   "cell_type": "code",
   "execution_count": 12,
   "metadata": {},
   "outputs": [
    {
     "name": "stdout",
     "output_type": "stream",
     "text": [
      "<a class=\"mnav\" href=\"https://news.baidu.com\" name=\"tj_trnews\"><!--新闻--></a>\n",
      "<a class=\"mnav\" href=\"https://news.baidu.com\" name=\"tj_trnews\">新闻</a>\n"
     ]
    }
   ],
   "source": [
    "t_list=bs.find_all(href=\"https://news.baidu.com\")\n",
    "for i in t_list:\n",
    "    print(i)"
   ]
  },
  {
   "cell_type": "markdown",
   "metadata": {},
   "source": [
    "# text参数"
   ]
  },
  {
   "cell_type": "code",
   "execution_count": 13,
   "metadata": {},
   "outputs": [
    {
     "name": "stdout",
     "output_type": "stream",
     "text": [
      "hao123\n",
      "地图\n",
      "贴吧\n"
     ]
    }
   ],
   "source": [
    "t_list=bs.find_all(text=[re.compile(\"\\d\"),\"贴吧\",\"地图\"])\n",
    "for i in t_list:\n",
    "    print(i)"
   ]
  },
  {
   "cell_type": "markdown",
   "metadata": {},
   "source": [
    "# limit参数\n",
    "\n",
    "限定得到多少条数据"
   ]
  },
  {
   "cell_type": "code",
   "execution_count": 14,
   "metadata": {},
   "outputs": [
    {
     "name": "stdout",
     "output_type": "stream",
     "text": [
      "<a class=\"mnav\" href=\"https://news.baidu.com\" name=\"tj_trnews\"><!--新闻--></a>\n",
      "<a class=\"mnav\" href=\"https://news.baidu.com\" name=\"tj_trnews\">新闻</a>\n",
      "<a class=\"mnav\" href=\"https://www.hao123.com\" name=\"tj_trhao123\">hao123</a>\n"
     ]
    }
   ],
   "source": [
    "t_list=bs.find_all(\"a\",limit=3)\n",
    "for i in t_list:\n",
    "    print(i)"
   ]
  },
  {
   "cell_type": "markdown",
   "metadata": {},
   "source": [
    "# css选择器"
   ]
  },
  {
   "cell_type": "code",
   "execution_count": 15,
   "metadata": {},
   "outputs": [
    {
     "name": "stdout",
     "output_type": "stream",
     "text": [
      "<title>百度一下·你就知道</title>\n"
     ]
    }
   ],
   "source": [
    "t_list=bs.select('title')#通过标签查找\n",
    "for i in t_list:\n",
    "    print(i)"
   ]
  },
  {
   "cell_type": "code",
   "execution_count": 16,
   "metadata": {},
   "outputs": [
    {
     "name": "stdout",
     "output_type": "stream",
     "text": [
      "<a class=\"mnav\" href=\"https://news.baidu.com\" name=\"tj_trnews\"><!--新闻--></a>\n",
      "<a class=\"mnav\" href=\"https://news.baidu.com\" name=\"tj_trnews\">新闻</a>\n",
      "<a class=\"mnav\" href=\"https://www.hao123.com\" name=\"tj_trhao123\">hao123</a>\n",
      "<a class=\"mnav\" href=\"https://map.baidu.com\" name=\"tj_trmap\">地图</a>\n",
      "<a class=\"mnav\" href=\"https://v.baidu.com\" name=\"tj_trvideo\">视频</a>\n",
      "<a class=\"mnav\" href=\"https://tieba.baidu.com\" name=\"tj_trtieba\">贴吧</a>\n"
     ]
    }
   ],
   "source": [
    "t_list=bs.select('.mnav')#通过类名查找\n",
    "for i in t_list:\n",
    "    print(i)"
   ]
  },
  {
   "cell_type": "code",
   "execution_count": 17,
   "metadata": {},
   "outputs": [
    {
     "name": "stdout",
     "output_type": "stream",
     "text": [
      "<div id=\"u1\">\n",
      "<a class=\"mnav\" href=\"https://news.baidu.com\" name=\"tj_trnews\"><!--新闻--></a>\n",
      "<a class=\"mnav\" href=\"https://news.baidu.com\" name=\"tj_trnews\">新闻</a>\n",
      "<a class=\"mnav\" href=\"https://www.hao123.com\" name=\"tj_trhao123\">hao123</a>\n",
      "<a class=\"mnav\" href=\"https://map.baidu.com\" name=\"tj_trmap\">地图</a>\n",
      "<a class=\"mnav\" href=\"https://v.baidu.com\" name=\"tj_trvideo\">视频</a>\n",
      "<a class=\"mnav\" href=\"https://tieba.baidu.com\" name=\"tj_trtieba\">贴吧</a>\n",
      "<a class=\"bri\" href=\"https://www.baidu.com/more/\" name=\"tj_briicon\">style=\"...\"更多产品</a>\n",
      "</div>\n"
     ]
    }
   ],
   "source": [
    "t_list=bs.select('#u1')#通过id查找\n",
    "for i in t_list:\n",
    "    print(i)"
   ]
  },
  {
   "cell_type": "code",
   "execution_count": 18,
   "metadata": {},
   "outputs": [
    {
     "name": "stdout",
     "output_type": "stream",
     "text": [
      "<a class=\"bri\" href=\"https://www.baidu.com/more/\" name=\"tj_briicon\">style=\"...\"更多产品</a>\n"
     ]
    }
   ],
   "source": [
    "t_list=bs.select('a[class=\"bri\"]')#通过属性查找\n",
    "for i in t_list:\n",
    "    print(i)"
   ]
  },
  {
   "cell_type": "code",
   "execution_count": 19,
   "metadata": {},
   "outputs": [
    {
     "name": "stdout",
     "output_type": "stream",
     "text": [
      "[]\n"
     ]
    }
   ],
   "source": [
    "#暂时不清楚\n",
    "t_list=bs.select(\"head > title\")#通过子标签查找\n",
    "print(t_list)"
   ]
  },
  {
   "cell_type": "code",
   "execution_count": null,
   "metadata": {},
   "outputs": [],
   "source": []
  }
 ],
 "metadata": {
  "kernelspec": {
   "display_name": "Python 3",
   "language": "python",
   "name": "python3"
  },
  "language_info": {
   "codemirror_mode": {
    "name": "ipython",
    "version": 3
   },
   "file_extension": ".py",
   "mimetype": "text/x-python",
   "name": "python",
   "nbconvert_exporter": "python",
   "pygments_lexer": "ipython3",
   "version": "3.7.3"
  }
 },
 "nbformat": 4,
 "nbformat_minor": 4
}
