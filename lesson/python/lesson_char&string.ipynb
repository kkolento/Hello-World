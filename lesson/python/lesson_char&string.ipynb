{
 "cells": [
  {
   "cell_type": "markdown",
   "metadata": {},
   "source": [
    "# Python字符\n",
    "\n",
    "单引号和双引号，需要注意的仅是小心转义字符。"
   ]
  },
  {
   "cell_type": "code",
   "execution_count": 1,
   "metadata": {},
   "outputs": [
    {
     "name": "stdout",
     "output_type": "stream",
     "text": [
      "student \n",
      " he said\"i love u\" \n",
      " \n",
      "  这是第一段\n",
      " 还可以有第二段\n",
      "\n"
     ]
    }
   ],
   "source": [
    "word='student'\n",
    "sentense=\"he said\\\"i love u\\\"\"\n",
    "paragraph=\"\"\"\n",
    "  这是第一段\n",
    " 还可以有第二段\n",
    "\"\"\"\n",
    "print(word,\"\\n\",sentense,\"\\n\",paragraph)"
   ]
  },
  {
   "cell_type": "markdown",
   "metadata": {},
   "source": [
    "**使用r来获取源字符串（不翻译任何转义）！**"
   ]
  },
  {
   "cell_type": "code",
   "execution_count": 2,
   "metadata": {},
   "outputs": [
    {
     "name": "stdout",
     "output_type": "stream",
     "text": [
      "he said \\\"i love u\\n\\\"\n"
     ]
    }
   ],
   "source": [
    "src=r\"he said i love u\\n\"\n",
    "print(r\"he said \\\"i love u\\n\\\"\")"
   ]
  },
  {
   "cell_type": "code",
   "execution_count": 3,
   "metadata": {},
   "outputs": [
    {
     "name": "stdout",
     "output_type": "stream",
     "text": [
      "sue\n",
      "这样可以不打%直接输出a=9\n"
     ]
    }
   ],
   "source": [
    "print(word[0:6:2])#第三个参数为间隔步长，依然为左闭右开\n",
    "a=9\n",
    "print(\"这样可以不打%直接输出a=\"+str(a))"
   ]
  },
  {
   "cell_type": "markdown",
   "metadata": {},
   "source": [
    "# 字符串常见操作\n",
    "\n",
    "1. capitalize()将字符串首字母大写"
   ]
  },
  {
   "cell_type": "code",
   "execution_count": 4,
   "metadata": {},
   "outputs": [
    {
     "name": "stdout",
     "output_type": "stream",
     "text": [
      "I see u,that's it\n"
     ]
    }
   ],
   "source": [
    "src=\"i see u,that's it\"\n",
    "src=src.capitalize()\n",
    "print(src)"
   ]
  },
  {
   "cell_type": "markdown",
   "metadata": {},
   "source": [
    "2. center(width,fillchar)将字符左右填充,width为整个字符宽度，奇数则右边缺一块\n",
    "\n",
    "ljust是在源字符串之后添加标识符"
   ]
  },
  {
   "cell_type": "code",
   "execution_count": 5,
   "metadata": {},
   "outputs": [
    {
     "name": "stdout",
     "output_type": "stream",
     "text": [
      "---here--\n",
      "here-----\n"
     ]
    }
   ],
   "source": [
    "src='here'\n",
    "src=src.center(9,'-')\n",
    "print(src)\n",
    "src='here'\n",
    "print(src.ljust(9,'-'))"
   ]
  },
  {
   "cell_type": "markdown",
   "metadata": {},
   "source": [
    "3. **count(str,begin,end)计数str在begin,end区间(左闭右开)出现次数**"
   ]
  },
  {
   "cell_type": "code",
   "execution_count": 6,
   "metadata": {},
   "outputs": [
    {
     "name": "stdout",
     "output_type": "stream",
     "text": [
      "2\n"
     ]
    }
   ],
   "source": [
    "src='aaaa'\n",
    "x=src.count('aa',0,4)\n",
    "print(x)"
   ]
  },
  {
   "cell_type": "markdown",
   "metadata": {},
   "source": [
    "4. **编码、解码**\n",
    "\n",
    "encode(encoding='utf-8',errors='strict')，出错默认返回ValueError\n",
    "\n",
    "bytes.decode(encoding='utf-8',errors='strict')"
   ]
  },
  {
   "cell_type": "markdown",
   "metadata": {},
   "source": [
    "5. endswith(suffix,begin,end)检测指定范围内是否以指定字符结尾"
   ]
  },
  {
   "cell_type": "code",
   "execution_count": 7,
   "metadata": {},
   "outputs": [
    {
     "name": "stdout",
     "output_type": "stream",
     "text": [
      "True\n"
     ]
    }
   ],
   "source": [
    "src='watchitbeginagain'\n",
    "x=src.endswith('in',0,12)\n",
    "print(x)"
   ]
  },
  {
   "cell_type": "markdown",
   "metadata": {},
   "source": [
    "6. **查找指定字符首次出现位置find(str,begin,end)**，若找不到则返回-1\n",
    "\n",
    "也可以用index代替find，只不过这时如果没找到字符会报错\n",
    "\n",
    "rfind，从右向左查找"
   ]
  },
  {
   "cell_type": "code",
   "execution_count": 8,
   "metadata": {},
   "outputs": [
    {
     "data": {
      "text/plain": [
       "10"
      ]
     },
     "execution_count": 8,
     "metadata": {},
     "output_type": "execute_result"
    }
   ],
   "source": [
    "src='watchitbeginagain'\n",
    "src.find('in')"
   ]
  },
  {
   "cell_type": "markdown",
   "metadata": {},
   "source": [
    "7. **检测字符串构成**\n",
    "\n",
    "isalnum()全是字母和数字\n",
    "\n",
    "isalpha()全是字母\n",
    "\n",
    "isdigit()全是数字\n",
    "\n",
    "islower()/isupper全是小写，要求至少包含一个区分大小写的字符\n",
    "\n",
    "isnumeric()数字字符，包含罗马、中文数字\n",
    "\n",
    "isspace()全是空格"
   ]
  },
  {
   "cell_type": "code",
   "execution_count": 9,
   "metadata": {},
   "outputs": [
    {
     "name": "stdout",
     "output_type": "stream",
     "text": [
      "True\n",
      "True\n",
      "False\n",
      "False\n",
      "True\n"
     ]
    }
   ],
   "source": [
    "src='三十七'\n",
    "print(src.isalnum())\n",
    "print(src.isalpha())\n",
    "print(src.isdigit())\n",
    "print(src.islower())\n",
    "print(src.isnumeric())"
   ]
  },
  {
   "cell_type": "markdown",
   "metadata": {},
   "source": [
    "8. **将多个字符串序列以指定分割符连接起来str.join(seq)**\n",
    "\n",
    "需要注意的是，seq必须提前定义好，即join()内参数只能有一个。str可以为其他名称\n",
    "\n",
    "**截取split(str,num)**"
   ]
  },
  {
   "cell_type": "code",
   "execution_count": 10,
   "metadata": {},
   "outputs": [
    {
     "name": "stdout",
     "output_type": "stream",
     "text": [
      "this!is!a!sequense\n",
      "['s', 'quense']\n"
     ]
    }
   ],
   "source": [
    "str=\"!\"\n",
    "a=\"this\"\n",
    "b=\"is\"\n",
    "c=\"a\"\n",
    "d=\"sequense\"\n",
    "seq=(a,b,c,d)\n",
    "print(str.join(seq))\n",
    "print(d.split('e',1))"
   ]
  },
  {
   "cell_type": "markdown",
   "metadata": {},
   "source": [
    "9. **字符串长度len(string)**"
   ]
  },
  {
   "cell_type": "code",
   "execution_count": 11,
   "metadata": {},
   "outputs": [
    {
     "data": {
      "text/plain": [
       "4"
      ]
     },
     "execution_count": 11,
     "metadata": {},
     "output_type": "execute_result"
    }
   ],
   "source": [
    "src='test'\n",
    "len(src)"
   ]
  },
  {
   "cell_type": "markdown",
   "metadata": {},
   "source": [
    "10. 大小写转换.lower()/.upper()"
   ]
  },
  {
   "cell_type": "code",
   "execution_count": 12,
   "metadata": {},
   "outputs": [
    {
     "name": "stdout",
     "output_type": "stream",
     "text": [
      "adawong\n",
      "ADAWONG\n"
     ]
    }
   ],
   "source": [
    "src='AdaWong'\n",
    "print(src.lower())\n",
    "print(src.upper())"
   ]
  },
  {
   "cell_type": "markdown",
   "metadata": {},
   "source": [
    "11. **截取字符串左边特定字符lstrip()** 右边rstrip"
   ]
  },
  {
   "cell_type": "code",
   "execution_count": 13,
   "metadata": {},
   "outputs": [
    {
     "name": "stdout",
     "output_type": "stream",
     "text": [
      "hat the hell\n"
     ]
    }
   ],
   "source": [
    "src='wwwwwwwhat the hell'\n",
    "src1=src.lstrip('ww')\n",
    "print(src1)"
   ]
  },
  {
   "cell_type": "markdown",
   "metadata": {},
   "source": [
    "12. 返回字符串中最大/小的字符"
   ]
  },
  {
   "cell_type": "code",
   "execution_count": 14,
   "metadata": {},
   "outputs": [
    {
     "name": "stdout",
     "output_type": "stream",
     "text": [
      "o\n",
      "A\n"
     ]
    }
   ],
   "source": [
    "src='AdaWong'\n",
    "print(max(src))\n",
    "print(min(src))"
   ]
  },
  {
   "cell_type": "markdown",
   "metadata": {},
   "source": [
    "13. 将字符串中的特定字符替换为新的 replace(old,new,max) max为次数，超出之后的不再替换"
   ]
  },
  {
   "cell_type": "code",
   "execution_count": 15,
   "metadata": {},
   "outputs": [
    {
     "data": {
      "text/plain": [
       "'wwwwwhat the hell'"
      ]
     },
     "execution_count": 15,
     "metadata": {},
     "output_type": "execute_result"
    }
   ],
   "source": [
    "src='wwwwwwwhat the hell'\n",
    "src.replace('ww','w',2)"
   ]
  },
  {
   "cell_type": "markdown",
   "metadata": {},
   "source": [
    "14. 替换映射表str.maketrans(intab, outtab) str.trans(tab)"
   ]
  },
  {
   "cell_type": "code",
   "execution_count": 16,
   "metadata": {},
   "outputs": [
    {
     "name": "stdout",
     "output_type": "stream",
     "text": [
      "1ppl5 21n1n1\n"
     ]
    }
   ],
   "source": [
    "intab='abcde'\n",
    "outtab='12345'\n",
    "tab=str.maketrans(intab,outtab)\n",
    "str='apple banana'\n",
    "print(str.translate(tab))"
   ]
  },
  {
   "cell_type": "code",
   "execution_count": null,
   "metadata": {},
   "outputs": [],
   "source": []
  }
 ],
 "metadata": {
  "kernelspec": {
   "display_name": "Python 3",
   "language": "python",
   "name": "python3"
  },
  "language_info": {
   "codemirror_mode": {
    "name": "ipython",
    "version": 3
   },
   "file_extension": ".py",
   "mimetype": "text/x-python",
   "name": "python",
   "nbconvert_exporter": "python",
   "pygments_lexer": "ipython3",
   "version": "3.7.3"
  }
 },
 "nbformat": 4,
 "nbformat_minor": 4
}
