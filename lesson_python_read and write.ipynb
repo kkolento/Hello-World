{
 "cells": [
  {
   "cell_type": "markdown",
   "metadata": {},
   "source": [
    "# PYTHON文件读取与写入\n",
    "## 文件读取f.read"
   ]
  },
  {
   "cell_type": "code",
   "execution_count": 1,
   "metadata": {},
   "outputs": [],
   "source": [
    "f1_path = 'J:/Learning/opencv/new/hw1/test.txt'"
   ]
  },
  {
   "cell_type": "markdown",
   "metadata": {},
   "source": [
    "### 1.标准读取，'r'表示read"
   ]
  },
  {
   "cell_type": "code",
   "execution_count": 2,
   "metadata": {},
   "outputs": [
    {
     "name": "stdout",
     "output_type": "stream",
     "text": [
      "[2.25365180e+01 2.25432413e+01 2.25497877e+01 2.25536801e+01\n",
      " 2.25559802e+01 2.25562279e+01 2.25562456e+01 2.25552548e+01\n",
      " 2.25517162e+01 1.70238854e+00 1.70230007e+00 1.70217622e+00\n",
      " 1.70214084e+00 1.70201699e+00 1.70196391e+00 1.70189314e+00\n",
      " 1.70185775e+00 1.70178698e+00 3.89033970e-01 3.88934890e-01\n",
      " 3.88959660e-01 3.89166667e-01 3.89334749e-01 3.89370134e-01\n",
      " 3.89304671e-01 3.89071125e-01 3.88581033e-01 1.40153928e-01\n",
      " 1.40187544e-01 1.40438783e-01 1.40796178e-01 1.41013800e-01\n",
      " 1.41086341e-01 1.41127035e-01 1.41095188e-01 1.40916490e-01\n",
      " 2.14743454e+00 2.15033616e+00 2.15251238e+00 2.15507785e+00\n",
      " 2.15559094e+00 2.15580326e+00 2.15553786e+00 2.15373319e+00\n",
      " 2.14856688e+00 1.01164897e+01 1.01188606e+01 1.01283793e+01\n",
      " 1.01436837e+01 1.01568117e+01 1.01639597e+01 1.01680290e+01\n",
      " 1.01668790e+01 1.01600318e+01 1.22496461e+01 1.22547063e+01\n",
      " 1.22666136e+01 1.22848195e+01 1.22985846e+01 1.23057856e+01\n",
      " 1.23097311e+01 1.23066879e+01 1.22947983e+01 3.18957006e+01\n",
      " 3.19431175e+01 3.19806440e+01 3.20052371e+01 3.20183652e+01\n",
      " 3.20308917e+01 3.20400389e+01 3.20484784e+01 3.20576610e+01\n",
      " 4.25835103e+01 4.25849257e+01 4.26031493e+01 4.26326964e+01\n",
      " 4.26684360e+01 4.27009908e+01 4.27282378e+01 4.27542463e+01\n",
      " 4.27691083e+01 2.13377565e+01 2.13267870e+01 2.13255485e+01\n",
      " 2.13342180e+01 2.13501415e+01 2.13604034e+01 2.13665959e+01\n",
      " 2.13676575e+01 2.13715499e+01 2.03963199e-01 2.03361642e-01\n",
      " 2.02689314e-01 2.02618542e-01 2.02441614e-01 2.02229299e-01\n",
      " 2.02158528e-01 2.02158528e-01 2.02158528e-01 7.31916136e+01\n",
      " 7.31495046e+01 7.31153574e+01 7.30893489e+01 7.30700637e+01\n",
      " 7.30578556e+01 7.30479476e+01 7.30421090e+01 7.30435244e+01\n",
      " 2.76088110e+00 2.76249115e+00 2.76588818e+00 2.76806440e+00\n",
      " 2.76969214e+00 2.77082449e+00 2.77177990e+00 2.77342534e+00\n",
      " 2.77358457e+00 1.83940198e+00 1.83933121e+00 1.83949045e+00\n",
      " 1.83977353e+00 1.83987969e+00 1.83989738e+00 1.83980892e+00\n",
      " 1.83970276e+00 1.83947275e+00 1.56305839e+02 1.56543100e+02\n",
      " 1.56717197e+02 1.56752937e+02 1.56738075e+02 1.56697558e+02\n",
      " 1.56724098e+02 1.56735067e+02 1.56780538e+02 1.58586323e+02\n",
      " 1.58755113e+02 1.58904972e+02 1.58894285e+02 1.58858192e+02\n",
      " 1.58961872e+02 1.58971957e+02 1.58980096e+02 1.59008227e+02\n",
      " 2.29700991e+00 2.29962845e+00 2.30164544e+00 2.30235315e+00\n",
      " 2.30375088e+00 2.30438783e+00 2.30575018e+00 2.30553786e+00\n",
      " 2.30612173e+00 1.71392427e+00 1.71447275e+00 1.71426044e+00\n",
      " 1.71426044e+00 1.71461430e+00 1.71519816e+00 1.71562279e+00\n",
      " 1.71641897e+00 1.71682590e+00]\n"
     ]
    }
   ],
   "source": [
    "with open(f1_path,'r') as f:\n",
    "    data1 = f.read()\n",
    "print(data1)"
   ]
  },
  {
   "cell_type": "code",
   "execution_count": 11,
   "metadata": {},
   "outputs": [
    {
     "name": "stdout",
     "output_type": "stream",
     "text": [
      "<class 'str'>\n"
     ]
    }
   ],
   "source": [
    "print(type(data1))"
   ]
  },
  {
   "cell_type": "markdown",
   "metadata": {},
   "source": [
    "此方法读取出的数据类型为**str**\n",
    "\n",
    "暂不清楚是否所有此类型读取均为str类型\n",
    "\n",
    "无法将其直接转换为ndarray类型"
   ]
  },
  {
   "cell_type": "markdown",
   "metadata": {},
   "source": [
    "### 2.若为csv数据文件，需要调用专用模块"
   ]
  },
  {
   "cell_type": "code",
   "execution_count": 3,
   "metadata": {},
   "outputs": [
    {
     "name": "stdout",
     "output_type": "stream",
     "text": [
      "              日期  測站          測項     0     1     2     3     4     5     6  \\\n",
      "0       2014/1/1  豐原    AMB_TEMP    14    14    14    13    12    12    12   \n",
      "1       2014/1/1  豐原         CH4   1.8   1.8   1.8   1.8   1.8   1.8   1.8   \n",
      "2       2014/1/1  豐原          CO  0.51  0.41  0.39  0.37  0.35   0.3  0.37   \n",
      "3       2014/1/1  豐原        NMHC   0.2  0.15  0.13  0.12  0.11  0.06   0.1   \n",
      "4       2014/1/1  豐原          NO   0.9   0.6   0.5   1.7   1.8   1.5   1.9   \n",
      "...          ...  ..         ...   ...   ...   ...   ...   ...   ...   ...   \n",
      "4315  2014/12/20  豐原         THC   1.8   1.8   1.8   1.8   1.8   1.7   1.7   \n",
      "4316  2014/12/20  豐原       WD_HR    46    13    61    44    55    68    66   \n",
      "4317  2014/12/20  豐原  WIND_DIREC    36    55    72   327    74    52    59   \n",
      "4318  2014/12/20  豐原  WIND_SPEED   1.9   2.4   1.9   2.8   2.3   1.9   2.1   \n",
      "4319  2014/12/20  豐原       WS_HR   0.7   0.8   1.8     1   1.9   1.7   2.1   \n",
      "\n",
      "      ...    14    15    16    17    18    19    20    21    22    23  \n",
      "0     ...    22    22    21    19    17    16    15    15    15    15  \n",
      "1     ...   1.8   1.8   1.8   1.8   1.8   1.8   1.8   1.8   1.8   1.8  \n",
      "2     ...  0.37  0.37  0.47  0.69  0.56  0.45  0.38  0.35  0.36  0.32  \n",
      "3     ...   0.1  0.13  0.14  0.23  0.18  0.12   0.1  0.09   0.1  0.08  \n",
      "4     ...   2.5   2.2   2.5   2.3   2.1   1.9   1.5   1.6   1.8   1.5  \n",
      "...   ...   ...   ...   ...   ...   ...   ...   ...   ...   ...   ...  \n",
      "4315  ...   1.8   1.8     2   2.1     2   1.9   1.9   1.9     2     2  \n",
      "4316  ...    59   308   327    21   100   109   108   114   108   109  \n",
      "4317  ...    18   311    52    54   121    97   107   118   100   105  \n",
      "4318  ...   2.3   2.6   1.3     1   1.5     1   1.7   1.5     2     2  \n",
      "4319  ...   1.3   1.7   0.7   0.4   1.1   1.4   1.3   1.6   1.8     2  \n",
      "\n",
      "[4320 rows x 27 columns]\n"
     ]
    }
   ],
   "source": [
    "import pandas as pd\n",
    "import csv\n",
    "f2_path ='J:/Learning/opencv/new/hw1/train.csv'\n",
    "data2 = pd.read_csv(f2_path,encoding = 'big5')\n",
    "print(data2)"
   ]
  },
  {
   "cell_type": "code",
   "execution_count": 9,
   "metadata": {},
   "outputs": [
    {
     "name": "stdout",
     "output_type": "stream",
     "text": [
      "<class 'pandas.core.frame.DataFrame'>\n"
     ]
    }
   ],
   "source": [
    "print(type(data2))"
   ]
  },
  {
   "cell_type": "markdown",
   "metadata": {},
   "source": [
    "可以看到此方法读取的数据为pd包中的**DataFrame**类型"
   ]
  },
  {
   "cell_type": "markdown",
   "metadata": {},
   "source": [
    "使用类型转换 **.to_numpy()** 可以将数据类型转换为ndarray格式便于计算"
   ]
  },
  {
   "cell_type": "code",
   "execution_count": 13,
   "metadata": {},
   "outputs": [
    {
     "name": "stdout",
     "output_type": "stream",
     "text": [
      "<class 'numpy.ndarray'>\n"
     ]
    }
   ],
   "source": [
    "import numpy as np\n",
    "data2_np = data2.to_numpy()\n",
    "print(type(data2_np))"
   ]
  },
  {
   "cell_type": "markdown",
   "metadata": {},
   "source": [
    "## 数据处理技巧\n",
    "\n",
    "**1.截取重要区间**\n",
    "\n",
    "对于data2，我们只需要数据，而不需要表头，故可使用 **.iloc**来选取需要的行列区间数据（此功能是pd包中的功能）\n",
    "\n",
    "示例为截取所有行的第3-最后一列数据**左闭右开**\n",
    "\n",
    "加入 **.values**后，可直接将类型转换为ndarray!"
   ]
  },
  {
   "cell_type": "code",
   "execution_count": 18,
   "metadata": {},
   "outputs": [
    {
     "name": "stdout",
     "output_type": "stream",
     "text": [
      "[['14' '14' '14' ... '15' '15' '15']\n",
      " ['1.8' '1.8' '1.8' ... '1.8' '1.8' '1.8']\n",
      " ['0.51' '0.41' '0.39' ... '0.35' '0.36' '0.32']\n",
      " ...\n",
      " ['36' '55' '72' ... '118' '100' '105']\n",
      " ['1.9' '2.4' '1.9' ... '1.5' '2' '2']\n",
      " ['0.7' '0.8' '1.8' ... '1.6' '1.8' '2']]\n",
      "<class 'numpy.ndarray'>\n"
     ]
    }
   ],
   "source": [
    "data2_new = data2.iloc[:,3:].values\n",
    "print(data2_new)\n",
    "print(type(data2_new))"
   ]
  },
  {
   "cell_type": "markdown",
   "metadata": {},
   "source": [
    "---"
   ]
  },
  {
   "cell_type": "markdown",
   "metadata": {},
   "source": [
    "也可以根据标签读取对应的行列数据\n",
    "\n",
    "利用**data2.loc[行标签,列标签]**\n",
    "\n",
    "**此处标签为DataFrame格式下的标签，可使用如下代码查看**"
   ]
  },
  {
   "cell_type": "code",
   "execution_count": 19,
   "metadata": {},
   "outputs": [
    {
     "name": "stdout",
     "output_type": "stream",
     "text": [
      "Index(['日期', '測站', '測項', '0', '1', '2', '3', '4', '5', '6', '7', '8', '9',\n",
      "       '10', '11', '12', '13', '14', '15', '16', '17', '18', '19', '20', '21',\n",
      "       '22', '23'],\n",
      "      dtype='object')\n"
     ]
    }
   ],
   "source": [
    "print(data2.columns)"
   ]
  },
  {
   "cell_type": "code",
   "execution_count": 25,
   "metadata": {},
   "outputs": [
    {
     "name": "stdout",
     "output_type": "stream",
     "text": [
      "0         2014/1/1\n",
      "1         2014/1/1\n",
      "2         2014/1/1\n",
      "3         2014/1/1\n",
      "4         2014/1/1\n",
      "           ...    \n",
      "4315    2014/12/20\n",
      "4316    2014/12/20\n",
      "4317    2014/12/20\n",
      "4318    2014/12/20\n",
      "4319    2014/12/20\n",
      "Name: 日期, Length: 4320, dtype: object\n",
      "<class 'pandas.core.series.Series'>\n"
     ]
    }
   ],
   "source": [
    "data2_new_2 = data2.loc[:,'日期']\n",
    "print(data2_new_2)\n",
    "print(type(data2_new_2))"
   ]
  },
  {
   "cell_type": "markdown",
   "metadata": {},
   "source": [
    "可以看到数据保留了行数标签，数据类型为**series**"
   ]
  },
  {
   "cell_type": "code",
   "execution_count": 29,
   "metadata": {},
   "outputs": [
    {
     "name": "stdout",
     "output_type": "stream",
     "text": [
      "2014/1/1\n",
      "<class 'str'>\n"
     ]
    }
   ],
   "source": [
    "data_new_3 = data2.loc[1,'日期']\n",
    "print(data_new_3)\n",
    "print(type(data_new_3))"
   ]
  },
  {
   "cell_type": "markdown",
   "metadata": {},
   "source": [
    "可以看到截取了精确到某一行某一列的数据，数据类型为**str**"
   ]
  },
  {
   "cell_type": "markdown",
   "metadata": {},
   "source": [
    "**.loc为左闭右开**"
   ]
  },
  {
   "cell_type": "markdown",
   "metadata": {},
   "source": [
    "## 写入文件\n",
    "\n",
    "**写入文件的类型只能为str**"
   ]
  },
  {
   "cell_type": "code",
   "execution_count": 46,
   "metadata": {},
   "outputs": [],
   "source": [
    "f3_path ='J:/Learning/jupyter notebook/testwrite.txt'\n",
    "with open(f3_path,'w') as f:\n",
    "    f.write('啊这，不会有人不会写入文件吧')"
   ]
  },
  {
   "cell_type": "markdown",
   "metadata": {},
   "source": [
    "写入前需要路径中存在命名文件\n",
    "\n",
    "且按上面这样每次运行程序会覆盖之前的内容\n",
    "\n",
    "**写入csv文件**"
   ]
  },
  {
   "cell_type": "code",
   "execution_count": 47,
   "metadata": {},
   "outputs": [],
   "source": [
    "with open('testwrite.csv', mode='w', newline='') as f:\n",
    "    csv_writer = csv.writer(f)"
   ]
  },
  {
   "cell_type": "markdown",
   "metadata": {},
   "source": [
    "写入前不需要路径（py程序）中存在命名文件，具体写入内容方式暂时不会"
   ]
  },
  {
   "cell_type": "code",
   "execution_count": null,
   "metadata": {},
   "outputs": [],
   "source": []
  }
 ],
 "metadata": {
  "kernelspec": {
   "display_name": "Python 3",
   "language": "python",
   "name": "python3"
  },
  "language_info": {
   "codemirror_mode": {
    "name": "ipython",
    "version": 3
   },
   "file_extension": ".py",
   "mimetype": "text/x-python",
   "name": "python",
   "nbconvert_exporter": "python",
   "pygments_lexer": "ipython3",
   "version": "3.7.3"
  }
 },
 "nbformat": 4,
 "nbformat_minor": 4
}
